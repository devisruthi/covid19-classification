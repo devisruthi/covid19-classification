{
 "cells": [
  {
   "cell_type": "code",
   "execution_count": 1,
   "id": "4c28976b-7011-488d-a3f8-99c8cb867e22",
   "metadata": {},
   "outputs": [
    {
     "name": "stderr",
     "output_type": "stream",
     "text": [
      "2022-09-18 11:08:54.604451: W tensorflow/stream_executor/platform/default/dso_loader.cc:64] Could not load dynamic library 'libcudart.so.11.0'; dlerror: libcudart.so.11.0: cannot open shared object file: No such file or directory; LD_LIBRARY_PATH: /rds/bear-apps/2021b/EL8-has/software/ZeroMQ/4.3.4-GCCcore-11.2.0/lib:/rds/bear-apps/2021b/EL8-has/software/util-linux/2.37-GCCcore-11.2.0/lib:/rds/bear-apps/2021b/EL8-has/software/libsodium/1.0.18-GCCcore-11.2.0/lib:/rds/bear-apps/2021b/EL8-has/software/OpenPGM/5.2.122-GCCcore-11.2.0/lib:/rds/bear-apps/2021b/EL8-has/software/Python/3.9.6-GCCcore-11.2.0/lib:/rds/bear-apps/2021b/EL8-has/software/OpenSSL/1.1/lib:/rds/bear-apps/2021b/EL8-has/software/libffi/3.4.2-GCCcore-11.2.0/lib64:/rds/bear-apps/2021b/EL8-has/software/GMP/6.2.1-GCCcore-11.2.0/lib:/rds/bear-apps/2021b/EL8-has/software/XZ/5.2.5-GCCcore-11.2.0/lib:/rds/bear-apps/2021b/EL8-has/software/SQLite/3.36-GCCcore-11.2.0/lib:/rds/bear-apps/2021b/EL8-has/software/Tcl/8.6.11-GCCcore-11.2.0/lib:/rds/bear-apps/2021b/EL8-has/software/ncurses/6.2-GCCcore-11.2.0/lib:/rds/bear-apps/2021b/EL8-has/software/libreadline/8.1-GCCcore-11.2.0/lib:/rds/bear-apps/2021b/EL8-has/software/zlib/1.2.11-GCCcore-11.2.0/lib:/rds/bear-apps/2021b/EL8-has/software/bzip2/1.0.8-GCCcore-11.2.0/lib:/rds/bear-apps/2021b/EL8-has/software/binutils/2.37-GCCcore-11.2.0/lib:/rds/bear-apps/2021b/EL8-has/software/GCCcore/11.2.0/lib64:/.singularity.d/libs\n",
      "2022-09-18 11:08:54.604549: I tensorflow/stream_executor/cuda/cudart_stub.cc:29] Ignore above cudart dlerror if you do not have a GPU set up on your machine.\n"
     ]
    }
   ],
   "source": [
    "from keras.models import model_from_json\n",
    "from pathlib import Path\n",
    "from tensorflow.keras.preprocessing import image\n",
    "import numpy as np\n",
    "from sklearn.metrics import accuracy_score\n",
    "import joblib"
   ]
  },
  {
   "cell_type": "code",
   "execution_count": 2,
   "id": "5ea01207-0233-4018-99d2-1219bb1c68ee",
   "metadata": {},
   "outputs": [
    {
     "name": "stderr",
     "output_type": "stream",
     "text": [
      "2022-09-18 11:09:38.990727: W tensorflow/stream_executor/platform/default/dso_loader.cc:64] Could not load dynamic library 'libcuda.so.1'; dlerror: libcuda.so.1: cannot open shared object file: No such file or directory; LD_LIBRARY_PATH: /rds/bear-apps/2021b/EL8-has/software/ZeroMQ/4.3.4-GCCcore-11.2.0/lib:/rds/bear-apps/2021b/EL8-has/software/util-linux/2.37-GCCcore-11.2.0/lib:/rds/bear-apps/2021b/EL8-has/software/libsodium/1.0.18-GCCcore-11.2.0/lib:/rds/bear-apps/2021b/EL8-has/software/OpenPGM/5.2.122-GCCcore-11.2.0/lib:/rds/bear-apps/2021b/EL8-has/software/Python/3.9.6-GCCcore-11.2.0/lib:/rds/bear-apps/2021b/EL8-has/software/OpenSSL/1.1/lib:/rds/bear-apps/2021b/EL8-has/software/libffi/3.4.2-GCCcore-11.2.0/lib64:/rds/bear-apps/2021b/EL8-has/software/GMP/6.2.1-GCCcore-11.2.0/lib:/rds/bear-apps/2021b/EL8-has/software/XZ/5.2.5-GCCcore-11.2.0/lib:/rds/bear-apps/2021b/EL8-has/software/SQLite/3.36-GCCcore-11.2.0/lib:/rds/bear-apps/2021b/EL8-has/software/Tcl/8.6.11-GCCcore-11.2.0/lib:/rds/bear-apps/2021b/EL8-has/software/ncurses/6.2-GCCcore-11.2.0/lib:/rds/bear-apps/2021b/EL8-has/software/libreadline/8.1-GCCcore-11.2.0/lib:/rds/bear-apps/2021b/EL8-has/software/zlib/1.2.11-GCCcore-11.2.0/lib:/rds/bear-apps/2021b/EL8-has/software/bzip2/1.0.8-GCCcore-11.2.0/lib:/rds/bear-apps/2021b/EL8-has/software/binutils/2.37-GCCcore-11.2.0/lib:/rds/bear-apps/2021b/EL8-has/software/GCCcore/11.2.0/lib64:/.singularity.d/libs\n",
      "2022-09-18 11:09:38.990880: W tensorflow/stream_executor/cuda/cuda_driver.cc:269] failed call to cuInit: UNKNOWN ERROR (303)\n",
      "2022-09-18 11:09:38.990939: I tensorflow/stream_executor/cuda/cuda_diagnostics.cc:156] kernel driver does not appear to be running on this host (bear-pg0208u28b.bear.cluster): /proc/driver/nvidia/version does not exist\n",
      "2022-09-18 11:09:38.992138: I tensorflow/core/platform/cpu_feature_guard.cc:193] This TensorFlow binary is optimized with oneAPI Deep Neural Network Library (oneDNN) to use the following CPU instructions in performance-critical operations:  AVX2 FMA\n",
      "To enable them in other operations, rebuild TensorFlow with the appropriate compiler flags.\n"
     ]
    }
   ],
   "source": [
    "\n",
    "# Load the json file that contains the model's structure\n",
    "f = Path(\"./model/model_structure.json\")\n",
    "model_structure = f.read_text()\n",
    "\n",
    "# Recreate the Keras model object from the json data\n",
    "model = model_from_json(model_structure)\n",
    "\n",
    "# Re-load the model's trained weights\n",
    "model.load_weights(\"./model/model_weights.h5\")"
   ]
  },
  {
   "cell_type": "code",
   "execution_count": 3,
   "id": "fbe9414c-195f-48f8-8dde-d0951f994166",
   "metadata": {},
   "outputs": [],
   "source": [
    "#Load image input data\n",
    "# Path to folders with test data\n",
    "normal_path = Path(\"../../multiclass-dataset/train\") / \"NORMAL\"\n",
    "pnuemonia_path = Path(\"../../multiclass-dataset/train\") / \"COVID19\"\n",
    "\n",
    "images = []\n",
    "labels = []"
   ]
  },
  {
   "cell_type": "code",
   "execution_count": 4,
   "id": "defc126d-2013-453d-b814-9d7aaacd227a",
   "metadata": {},
   "outputs": [],
   "source": [
    "count = 0\n",
    "# Load all the normal images\n",
    "for img in normal_path.glob(\"*.*\"):\n",
    "    if count >= 450:\n",
    "        break\n",
    "        \n",
    "    count = count + 1\n",
    "    # Load the image from disk\n",
    "    img = image.load_img(img, target_size=(224,224))\n",
    "\n",
    "    # Convert the image to a numpy array\n",
    "    image_array = image.img_to_array(img)\n",
    "\n",
    "    # Add the image to the list of images\n",
    "    images.append(image_array)\n",
    "\n",
    "    # For each 'normal' image, the expected value should be 0\n",
    "    labels.append(0)\n"
   ]
  },
  {
   "cell_type": "code",
   "execution_count": 5,
   "id": "b19e8bd8-433f-4fdb-95f4-88c408fea727",
   "metadata": {},
   "outputs": [],
   "source": [
    "\n",
    "# Load all the pnuemonia images\n",
    "count = 0\n",
    "for img in pnuemonia_path.glob(\"*.*\"):\n",
    "    if count >= 450:\n",
    "        break\n",
    "    \n",
    "    count = count + 1\n",
    "    # Load the image from disk\n",
    "    img = image.load_img(img, target_size=(224,224))\n",
    "\n",
    "    # Convert the image to a numpy array\n",
    "    image_array = image.img_to_array(img)\n",
    "\n",
    "    # Add the image to the list of images\n",
    "    images.append(image_array)\n",
    "\n",
    "    # For each 'pnuemonia' image, the expected value should be 1\n",
    "    labels.append(1)\n"
   ]
  },
  {
   "cell_type": "code",
   "execution_count": 6,
   "id": "76df1d00-d78f-4220-87b3-859a55f73dfc",
   "metadata": {},
   "outputs": [],
   "source": [
    "import numpy as np\n",
    "from sklearn.model_selection import train_test_split"
   ]
  },
  {
   "cell_type": "code",
   "execution_count": 7,
   "id": "5c174128-6b0b-4f62-9042-33d79a1862b2",
   "metadata": {},
   "outputs": [],
   "source": [
    "# Create a single numpy array with all the images we loaded\n",
    "X_test = np.array(images)\n",
    "\n",
    "# Also convert the labels to a numpy array\n",
    "y_true = np.array(labels)\n",
    "\n",
    "# Normalize image data to 0-to-1 range\n",
    "X_test /= 255"
   ]
  },
  {
   "cell_type": "code",
   "execution_count": 8,
   "id": "4c6bae6b-56b1-41df-9ed8-5e660f068c6f",
   "metadata": {},
   "outputs": [
    {
     "name": "stdout",
     "output_type": "stream",
     "text": [
      "(900, 224, 224, 3) (900,)\n"
     ]
    }
   ],
   "source": [
    "print(X_test.shape, y_true.shape)"
   ]
  },
  {
   "cell_type": "code",
   "execution_count": 9,
   "id": "dce5cf9b-8a4b-4113-acdf-c3987b0a404d",
   "metadata": {},
   "outputs": [
    {
     "name": "stdout",
     "output_type": "stream",
     "text": [
      "29/29 [==============================] - 3s 93ms/step\n"
     ]
    }
   ],
   "source": [
    "# Given the test images, make a final prediction using our own model\n",
    "results = model.predict(X_test)\n",
    "\n",
    "#Process results\n",
    "p_pred = results.flatten()\n",
    "\n",
    "# extract the predicted class labels\n",
    "y_pred = np.where(p_pred > 0.5, 1, 0)"
   ]
  },
  {
   "cell_type": "code",
   "execution_count": 12,
   "id": "2ca8da4f-e661-4793-a9de-a1d732fb5b89",
   "metadata": {},
   "outputs": [
    {
     "name": "stdout",
     "output_type": "stream",
     "text": [
      "[[ 63 387]\n",
      " [148 302]]\n"
     ]
    },
    {
     "data": {
      "image/png": "[encoded data removed]",
      "text/plain": [
       "<Figure size 432x288 with 2 Axes>"
      ]
     },
     "metadata": {
      "needs_background": "light"
     },
     "output_type": "display_data"
    }
   ],
   "source": [
    "from sklearn.metrics import confusion_matrix, ConfusionMatrixDisplay\n",
    "\n",
    "labels = ['Normal', 'COVID19']\n",
    "cm = confusion_matrix(y_true, y_pred)\n",
    "ConfusionMatrixDisplay(cm, display_labels=labels).plot()\n",
    "print(cm)"
   ]
  },
  {
   "cell_type": "code",
   "execution_count": 13,
   "id": "0787b24e-3b35-432d-bc4e-9de36cb046a4",
   "metadata": {},
   "outputs": [
    {
     "name": "stdout",
     "output_type": "stream",
     "text": [
      "              precision    recall  f1-score   support\n",
      "\n",
      "           0     0.2986    0.1400    0.1906       450\n",
      "           1     0.4383    0.6711    0.5303       450\n",
      "\n",
      "    accuracy                         0.4056       900\n",
      "   macro avg     0.3684    0.4056    0.3605       900\n",
      "weighted avg     0.3684    0.4056    0.3605       900\n",
      "\n"
     ]
    }
   ],
   "source": [
    "from sklearn.metrics import classification_report\n",
    "print(classification_report(y_true, y_pred, digits=4))"
   ]
  },
  {
   "cell_type": "code",
   "execution_count": null,
   "id": "d888e420-a664-4e6e-b04c-d9d2f5d07843",
   "metadata": {},
   "outputs": [],
   "source": []
  },
  {
   "cell_type": "code",
   "execution_count": null,
   "id": "f8d3d194-d95a-47ff-b8b9-6093ed4a8ff0",
   "metadata": {},
   "outputs": [],
   "source": []
  }
 ],
 "metadata": {
  "kernelspec": {
   "display_name": "Python",
   "language": "python",
   "name": "sys_python"
  },
  "language_info": {
   "codemirror_mode": {
    "name": "ipython",
    "version": 3
   },
   "file_extension": ".py",
   "mimetype": "text/x-python",
   "name": "python",
   "nbconvert_exporter": "python",
   "pygments_lexer": "ipython3",
   "version": "3.9.6"
  }
 },
 "nbformat": 4,
 "nbformat_minor": 5
}
